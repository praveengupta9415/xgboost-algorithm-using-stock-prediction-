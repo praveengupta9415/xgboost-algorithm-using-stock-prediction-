{
 "cells": [
  {
   "cell_type": "code",
   "execution_count": 6,
   "id": "e7b78eca",
   "metadata": {},
   "outputs": [
    {
     "name": "stdout",
     "output_type": "stream",
     "text": [
      "Requirement already satisfied: yfinance in c:\\users\\dell\\anaconda3\\envs\\tensor\\lib\\site-packages (0.2.33)\n",
      "Requirement already satisfied: pandas>=1.3.0 in c:\\users\\dell\\anaconda3\\envs\\tensor\\lib\\site-packages (from yfinance) (2.0.3)\n",
      "Requirement already satisfied: numpy>=1.16.5 in c:\\users\\dell\\anaconda3\\envs\\tensor\\lib\\site-packages (from yfinance) (1.25.2)\n",
      "Requirement already satisfied: requests>=2.31 in c:\\users\\dell\\anaconda3\\envs\\tensor\\lib\\site-packages (from yfinance) (2.31.0)\n",
      "Requirement already satisfied: multitasking>=0.0.7 in c:\\users\\dell\\anaconda3\\envs\\tensor\\lib\\site-packages (from yfinance) (0.0.11)\n",
      "Requirement already satisfied: lxml>=4.9.1 in c:\\users\\dell\\anaconda3\\envs\\tensor\\lib\\site-packages (from yfinance) (4.9.3)\n",
      "Requirement already satisfied: appdirs>=1.4.4 in c:\\users\\dell\\anaconda3\\envs\\tensor\\lib\\site-packages (from yfinance) (1.4.4)\n",
      "Requirement already satisfied: pytz>=2022.5 in c:\\users\\dell\\anaconda3\\envs\\tensor\\lib\\site-packages (from yfinance) (2023.3.post1)\n",
      "Requirement already satisfied: frozendict>=2.3.4 in c:\\users\\dell\\anaconda3\\envs\\tensor\\lib\\site-packages (from yfinance) (2.3.10)\n",
      "Requirement already satisfied: peewee>=3.16.2 in c:\\users\\dell\\anaconda3\\envs\\tensor\\lib\\site-packages (from yfinance) (3.17.0)\n",
      "Requirement already satisfied: beautifulsoup4>=4.11.1 in c:\\users\\dell\\anaconda3\\envs\\tensor\\lib\\site-packages (from yfinance) (4.12.2)\n",
      "Requirement already satisfied: html5lib>=1.1 in c:\\users\\dell\\anaconda3\\envs\\tensor\\lib\\site-packages (from yfinance) (1.1)\n",
      "Requirement already satisfied: soupsieve>1.2 in c:\\users\\dell\\anaconda3\\envs\\tensor\\lib\\site-packages (from beautifulsoup4>=4.11.1->yfinance) (2.4)\n",
      "Requirement already satisfied: six>=1.9 in c:\\users\\dell\\anaconda3\\envs\\tensor\\lib\\site-packages (from html5lib>=1.1->yfinance) (1.16.0)\n",
      "Requirement already satisfied: webencodings in c:\\users\\dell\\anaconda3\\envs\\tensor\\lib\\site-packages (from html5lib>=1.1->yfinance) (0.5.1)\n",
      "Requirement already satisfied: python-dateutil>=2.8.2 in c:\\users\\dell\\anaconda3\\envs\\tensor\\lib\\site-packages (from pandas>=1.3.0->yfinance) (2.8.2)\n",
      "Requirement already satisfied: tzdata>=2022.1 in c:\\users\\dell\\anaconda3\\envs\\tensor\\lib\\site-packages (from pandas>=1.3.0->yfinance) (2023.3)\n",
      "Requirement already satisfied: charset-normalizer<4,>=2 in c:\\users\\dell\\anaconda3\\envs\\tensor\\lib\\site-packages (from requests>=2.31->yfinance) (2.0.4)\n",
      "Requirement already satisfied: idna<4,>=2.5 in c:\\users\\dell\\anaconda3\\envs\\tensor\\lib\\site-packages (from requests>=2.31->yfinance) (3.4)\n",
      "Requirement already satisfied: urllib3<3,>=1.21.1 in c:\\users\\dell\\anaconda3\\envs\\tensor\\lib\\site-packages (from requests>=2.31->yfinance) (1.26.16)\n",
      "Requirement already satisfied: certifi>=2017.4.17 in c:\\users\\dell\\anaconda3\\envs\\tensor\\lib\\site-packages (from requests>=2.31->yfinance) (2023.11.17)\n"
     ]
    }
   ],
   "source": [
    "!pip install yfinance\n"
   ]
  },
  {
   "cell_type": "code",
   "execution_count": 7,
   "id": "fe370cd2",
   "metadata": {},
   "outputs": [],
   "source": [
    "import yfinance as yf"
   ]
  },
  {
   "cell_type": "code",
   "execution_count": 8,
   "id": "306f8fd4",
   "metadata": {},
   "outputs": [],
   "source": [
    "# Import necessary libraries\n",
    "import numpy as np\n",
    "import pandas as pd\n",
    "import xgboost as xgb\n",
    "from sklearn.model_selection import train_test_split\n",
    "from sklearn.metrics import mean_squared_error"
   ]
  },
  {
   "cell_type": "code",
   "execution_count": 9,
   "id": "ac980df2",
   "metadata": {},
   "outputs": [
    {
     "name": "stdout",
     "output_type": "stream",
     "text": [
      "[*********************100%%**********************]  1 of 1 completed\n",
      "                  Open        High         Low       Close   Adj Close  \\\n",
      "Date                                                                     \n",
      "2024-01-02  187.149994  188.440002  183.889999  185.639999  185.403412   \n",
      "2024-01-03  184.220001  185.880005  183.429993  184.250000  184.015198   \n",
      "2024-01-04  182.149994  183.089996  180.880005  181.910004  181.678177   \n",
      "2024-01-05  181.990005  182.759995  180.169998  181.179993  180.949097   \n",
      "2024-01-08  182.089996  185.600006  181.500000  185.559998  185.323517   \n",
      "2024-01-09  183.919998  185.149994  182.729996  185.139999  184.904053   \n",
      "2024-01-10  184.350006  186.399994  183.919998  186.190002  185.952713   \n",
      "2024-01-11  186.539993  187.050003  183.619995  185.589996  185.353485   \n",
      "2024-01-12  186.059998  186.740005  185.190002  185.919998  185.683060   \n",
      "2024-01-16  182.160004  184.259995  180.929993  183.630005  183.395981   \n",
      "2024-01-17  181.270004  182.929993  180.300003  182.679993  182.447189   \n",
      "2024-01-18  186.089996  189.139999  185.830002  188.630005  188.389618   \n",
      "2024-01-19  189.330002  191.949997  188.820007  191.559998  191.315872   \n",
      "2024-01-22  192.300003  195.330002  192.259995  193.889999  193.642899   \n",
      "2024-01-23  195.020004  195.750000  193.830002  195.179993  194.931259   \n",
      "2024-01-24  195.419998  196.380005  194.339996  194.500000  194.252121   \n",
      "2024-01-25  195.220001  196.270004  193.110001  194.169998  193.922546   \n",
      "2024-01-26  194.270004  194.759995  191.940002  192.419998  192.174774   \n",
      "2024-01-29  192.009995  192.199997  189.580002  191.729996  191.485657   \n",
      "2024-01-30  190.940002  191.800003  187.470001  188.039993  187.800354   \n",
      "\n",
      "              Volume  \n",
      "Date                  \n",
      "2024-01-02  82488700  \n",
      "2024-01-03  58414500  \n",
      "2024-01-04  71983600  \n",
      "2024-01-05  62303300  \n",
      "2024-01-08  59144500  \n",
      "2024-01-09  42841800  \n",
      "2024-01-10  46792900  \n",
      "2024-01-11  49128400  \n",
      "2024-01-12  40444700  \n",
      "2024-01-16  65603000  \n",
      "2024-01-17  47317400  \n",
      "2024-01-18  78005800  \n",
      "2024-01-19  68741000  \n",
      "2024-01-22  60133900  \n",
      "2024-01-23  42355600  \n",
      "2024-01-24  53631300  \n",
      "2024-01-25  54822100  \n",
      "2024-01-26  44594000  \n",
      "2024-01-29  47145600  \n",
      "2024-01-30  55859400  \n"
     ]
    }
   ],
   "source": [
    "import yfinance as yf\n",
    "name = \"AAPL\"\n",
    "\n",
    "# Fetch the data\n",
    "data= yf.download(name, start=\"2024-01-01\", end=\"2024-04-17\")\n",
    "\n",
    "dates = data.index\n",
    "# Display the data\n",
    "print(data.head(20))"
   ]
  },
  {
   "cell_type": "code",
   "execution_count": 10,
   "id": "d5c84b38",
   "metadata": {},
   "outputs": [
    {
     "name": "stdout",
     "output_type": "stream",
     "text": [
      "                  Open        High         Low   Adj Close     Volume\n",
      "Date                                                                 \n",
      "2024-01-02  187.149994  188.440002  183.889999  185.403412   82488700\n",
      "2024-01-03  184.220001  185.880005  183.429993  184.015198   58414500\n",
      "2024-01-04  182.149994  183.089996  180.880005  181.678177   71983600\n",
      "2024-01-05  181.990005  182.759995  180.169998  180.949097   62303300\n",
      "2024-01-08  182.089996  185.600006  181.500000  185.323517   59144500\n",
      "...                ...         ...         ...         ...        ...\n",
      "2024-04-10  168.800003  169.089996  167.110001  167.779999   49709300\n",
      "2024-04-11  168.339996  175.460007  168.160004  175.039993   91070300\n",
      "2024-04-12  174.259995  178.360001  174.210007  176.550003  101593300\n",
      "2024-04-15  175.360001  176.630005  172.500000  172.690002   73531800\n",
      "2024-04-16  171.750000  173.759995  168.270004  169.380005   73711200\n",
      "\n",
      "[73 rows x 5 columns]\n",
      "Date\n",
      "2024-01-02    185.639999\n",
      "2024-01-03    184.250000\n",
      "2024-01-04    181.910004\n",
      "2024-01-05    181.179993\n",
      "2024-01-08    185.559998\n",
      "                 ...    \n",
      "2024-04-10    167.779999\n",
      "2024-04-11    175.039993\n",
      "2024-04-12    176.550003\n",
      "2024-04-15    172.690002\n",
      "2024-04-16    169.380005\n",
      "Name: Close, Length: 73, dtype: float64\n"
     ]
    }
   ],
   "source": [
    "X = data.drop(columns=['Close'])  # Features\n",
    "y = data['Close']  # Target variable\n",
    "print(X)\n",
    "print(y)\n"
   ]
  },
  {
   "cell_type": "code",
   "execution_count": 11,
   "id": "96131d5f",
   "metadata": {},
   "outputs": [],
   "source": [
    "# Split the data into training and testing sets\n",
    "X_train, X_test, y_train, y_test = train_test_split(X, y, test_size=0.2, random_state=42)"
   ]
  },
  {
   "cell_type": "code",
   "execution_count": 12,
   "id": "9b7747d6",
   "metadata": {},
   "outputs": [
    {
     "name": "stdout",
     "output_type": "stream",
     "text": [
      "                  Open        High         Low   Adj Close     Volume\n",
      "Date                                                                 \n",
      "2024-02-02  179.860001  187.330002  179.250000  185.613159  102518000\n",
      "2024-03-25  170.570007  171.940002  169.449997  170.850006   54288300\n",
      "2024-03-14  172.910004  174.309998  172.050003  173.000000   72913500\n",
      "2024-02-20  181.789993  182.429993  180.000000  181.559998   53665600\n",
      "2024-02-28  182.509995  183.119995  180.130005  181.419998   48953900\n",
      "2024-04-12  174.259995  178.360001  174.210007  176.550003  101593300\n",
      "2024-01-25  195.220001  196.270004  193.110001  193.922546   54822100\n",
      "2024-02-22  183.479996  184.960007  182.460007  184.369995   52292200\n",
      "2024-03-06  171.059998  171.240005  168.679993  169.119995   68587700\n",
      "2024-04-01  171.190002  171.250000  169.479996  170.029999   46240500\n",
      "2024-01-11  186.539993  187.050003  183.619995  185.353485   49128400\n",
      "2024-03-22  171.759995  173.050003  170.059998  172.279999   71106600\n",
      "2024-03-04  176.149994  176.899994  173.789993  175.100006   81510100\n",
      "2024-02-14  185.320007  185.529999  182.440002  184.149994   54630500\n",
      "2024-03-11  172.940002  174.380005  172.050003  172.750000   60139500\n",
      "2024-03-13  172.770004  173.190002  170.759995  171.130005   52488700\n",
      "2024-01-30  190.940002  191.800003  187.470001  187.800354   55859400\n",
      "2024-03-27  170.410004  173.600006  170.110001  173.309998   60273300\n",
      "2024-02-07  190.639999  191.050003  188.610001  189.168625   53439000\n",
      "2024-02-29  181.270004  182.570007  179.529999  180.750000  136682600\n",
      "2024-01-22  192.300003  195.330002  192.259995  193.642899   60133900\n",
      "2024-03-19  174.339996  176.610001  173.029999  176.080002   55215200\n",
      "2024-01-05  181.990005  182.759995  180.169998  180.949097   62303300\n",
      "2024-01-26  194.270004  194.759995  191.940002  192.174774   44594000\n",
      "2024-02-27  181.100006  183.919998  179.559998  182.630005   54318900\n",
      "2024-01-12  186.059998  186.740005  185.190002  185.683060   40444700\n",
      "2024-03-26  170.000000  171.419998  169.580002  169.710007   57388400\n",
      "2024-01-10  184.350006  186.399994  183.919998  185.952713   46792900\n",
      "2024-02-23  185.009995  185.039993  182.229996  182.520004   45119700\n",
      "2024-04-09  168.699997  170.080002  168.350006  169.669998   42451200\n",
      "2024-03-20  175.720001  178.669998  175.089996  178.669998   53423100\n",
      "2024-03-08  169.000000  173.699997  168.940002  170.729996   76114600\n",
      "2024-04-15  175.360001  176.630005  172.500000  172.690002   73531800\n",
      "2024-01-24  195.419998  196.380005  194.339996  194.252121   53631300\n",
      "2024-02-09  188.649994  189.990005  188.000000  188.850006   45155200\n",
      "2024-03-01  179.550003  180.529999  177.380005  179.660004   73488000\n",
      "2024-02-08  189.389999  189.539993  187.350006  188.080017   40962000\n",
      "2024-03-12  173.149994  174.029999  171.009995  173.229996   59825400\n",
      "2024-02-06  186.860001  189.309998  186.770004  189.058762   43490800\n",
      "2024-04-02  169.080002  169.339996  168.229996  168.839996   49329500\n",
      "2024-04-08  169.029999  169.199997  168.240005  168.449997   37425500\n",
      "2024-01-18  186.089996  189.139999  185.830002  188.389618   78005800\n",
      "2024-02-16  183.419998  184.850006  181.669998  182.309998   49701400\n",
      "2024-04-11  168.339996  175.460007  168.160004  175.039993   91070300\n",
      "2024-04-04  170.289993  171.919998  168.820007  168.820007   53704400\n",
      "2024-02-26  182.240005  182.759995  180.649994  181.160004   40867400\n",
      "2024-02-13  185.770004  186.210007  183.509995  185.039993   56529500\n",
      "2024-03-05  170.759995  172.039993  169.619995  170.119995   95132400\n",
      "2024-04-10  168.800003  169.089996  167.110001  167.779999   49709300\n",
      "2024-01-03  184.220001  185.880005  183.429993  184.015198   58414500\n",
      "2024-03-18  175.570007  177.710007  173.520004  173.720001   75604200\n",
      "2024-02-01  183.990005  186.949997  183.820007  186.621872   64885400\n",
      "2024-01-04  182.149994  183.089996  180.880005  181.678177   71983600\n",
      "2024-02-05  188.149994  189.250000  185.839996  187.440811   69668800\n",
      "2024-01-31  187.039993  187.100006  184.350006  184.164993   55467800\n",
      "2024-03-28  171.750000  172.229996  170.509995  171.479996   65672700\n",
      "2024-01-23  195.020004  195.750000  193.830002  194.931259   42355600\n",
      "2024-03-15  171.169998  172.619995  170.289993  172.619995  121664700\n"
     ]
    }
   ],
   "source": [
    "print(X_train)"
   ]
  },
  {
   "cell_type": "code",
   "execution_count": 13,
   "id": "1725e48a",
   "metadata": {},
   "outputs": [
    {
     "name": "stdout",
     "output_type": "stream",
     "text": [
      "                  Open        High         Low   Adj Close     Volume\n",
      "Date                                                                 \n",
      "2024-01-08  182.089996  185.600006  181.500000  185.323517   59144500\n",
      "2024-04-03  168.789993  170.679993  168.580002  169.649994   47691700\n",
      "2024-01-29  192.009995  192.199997  189.580002  191.485657   47145600\n",
      "2024-01-02  187.149994  188.440002  183.889999  185.403412   82488700\n",
      "2024-02-12  188.419998  188.669998  186.789993  187.149994   41781900\n",
      "2024-04-16  171.750000  173.759995  168.270004  169.380005   73711200\n",
      "2024-01-17  181.270004  182.929993  180.300003  182.447189   47317400\n",
      "2024-02-21  181.940002  182.889999  180.660004  182.320007   41529700\n",
      "2024-01-19  189.330002  191.949997  188.820007  191.315872   68741000\n",
      "2024-03-21  177.050003  177.490005  170.839996  171.369995  106181300\n",
      "2024-04-05  169.589996  170.389999  168.949997  169.580002   42055200\n",
      "2024-02-15  183.550003  184.490005  181.350006  183.860001   65434500\n",
      "2024-01-16  182.160004  184.259995  180.929993  183.395981   65603000\n",
      "2024-03-07  169.149994  170.729996  168.490005  169.000000   71765100\n",
      "2024-01-09  183.919998  185.149994  182.729996  184.904053   42841800\n"
     ]
    }
   ],
   "source": [
    "print(X_test)"
   ]
  },
  {
   "cell_type": "code",
   "execution_count": 14,
   "id": "f84c1fb5",
   "metadata": {},
   "outputs": [
    {
     "name": "stdout",
     "output_type": "stream",
     "text": [
      "Date\n",
      "2024-02-02    185.850006\n",
      "2024-03-25    170.850006\n",
      "2024-03-14    173.000000\n",
      "2024-02-20    181.559998\n",
      "2024-02-28    181.419998\n",
      "2024-04-12    176.550003\n",
      "2024-01-25    194.169998\n",
      "2024-02-22    184.369995\n",
      "2024-03-06    169.119995\n",
      "2024-04-01    170.029999\n",
      "2024-01-11    185.589996\n",
      "2024-03-22    172.279999\n",
      "2024-03-04    175.100006\n",
      "2024-02-14    184.149994\n",
      "2024-03-11    172.750000\n",
      "2024-03-13    171.130005\n",
      "2024-01-30    188.039993\n",
      "2024-03-27    173.309998\n",
      "2024-02-07    189.410004\n",
      "2024-02-29    180.750000\n",
      "2024-01-22    193.889999\n",
      "2024-03-19    176.080002\n",
      "2024-01-05    181.179993\n",
      "2024-01-26    192.419998\n",
      "2024-02-27    182.630005\n",
      "2024-01-12    185.919998\n",
      "2024-03-26    169.710007\n",
      "2024-01-10    186.190002\n",
      "2024-02-23    182.520004\n",
      "2024-04-09    169.669998\n",
      "2024-03-20    178.669998\n",
      "2024-03-08    170.729996\n",
      "2024-04-15    172.690002\n",
      "2024-01-24    194.500000\n",
      "2024-02-09    188.850006\n",
      "2024-03-01    179.660004\n",
      "2024-02-08    188.320007\n",
      "2024-03-12    173.229996\n",
      "2024-02-06    189.300003\n",
      "2024-04-02    168.839996\n",
      "2024-04-08    168.449997\n",
      "2024-01-18    188.630005\n",
      "2024-02-16    182.309998\n",
      "2024-04-11    175.039993\n",
      "2024-04-04    168.820007\n",
      "2024-02-26    181.160004\n",
      "2024-02-13    185.039993\n",
      "2024-03-05    170.119995\n",
      "2024-04-10    167.779999\n",
      "2024-01-03    184.250000\n",
      "2024-03-18    173.720001\n",
      "2024-02-01    186.860001\n",
      "2024-01-04    181.910004\n",
      "2024-02-05    187.679993\n",
      "2024-01-31    184.399994\n",
      "2024-03-28    171.479996\n",
      "2024-01-23    195.179993\n",
      "2024-03-15    172.619995\n",
      "Name: Close, dtype: float64\n"
     ]
    }
   ],
   "source": [
    "print(y_train)"
   ]
  },
  {
   "cell_type": "code",
   "execution_count": 15,
   "id": "226e0e4f",
   "metadata": {},
   "outputs": [
    {
     "name": "stdout",
     "output_type": "stream",
     "text": [
      "Date\n",
      "2024-01-08    185.559998\n",
      "2024-04-03    169.649994\n",
      "2024-01-29    191.729996\n",
      "2024-01-02    185.639999\n",
      "2024-02-12    187.149994\n",
      "2024-04-16    169.380005\n",
      "2024-01-17    182.679993\n",
      "2024-02-21    182.320007\n",
      "2024-01-19    191.559998\n",
      "2024-03-21    171.369995\n",
      "2024-04-05    169.580002\n",
      "2024-02-15    183.860001\n",
      "2024-01-16    183.630005\n",
      "2024-03-07    169.000000\n",
      "2024-01-09    185.139999\n",
      "Name: Close, dtype: float64\n"
     ]
    }
   ],
   "source": [
    "print(y_test)"
   ]
  },
  {
   "cell_type": "code",
   "execution_count": 16,
   "id": "48a4ffdc",
   "metadata": {},
   "outputs": [],
   "source": [
    "# Instantiate XGBoost regressor\n",
    "xgb_model = xgb.XGBRegressor()"
   ]
  },
  {
   "cell_type": "code",
   "execution_count": 17,
   "id": "03564727",
   "metadata": {},
   "outputs": [
    {
     "data": {
      "text/html": [
       "<style>#sk-container-id-1 {color: black;}#sk-container-id-1 pre{padding: 0;}#sk-container-id-1 div.sk-toggleable {background-color: white;}#sk-container-id-1 label.sk-toggleable__label {cursor: pointer;display: block;width: 100%;margin-bottom: 0;padding: 0.3em;box-sizing: border-box;text-align: center;}#sk-container-id-1 label.sk-toggleable__label-arrow:before {content: \"▸\";float: left;margin-right: 0.25em;color: #696969;}#sk-container-id-1 label.sk-toggleable__label-arrow:hover:before {color: black;}#sk-container-id-1 div.sk-estimator:hover label.sk-toggleable__label-arrow:before {color: black;}#sk-container-id-1 div.sk-toggleable__content {max-height: 0;max-width: 0;overflow: hidden;text-align: left;background-color: #f0f8ff;}#sk-container-id-1 div.sk-toggleable__content pre {margin: 0.2em;color: black;border-radius: 0.25em;background-color: #f0f8ff;}#sk-container-id-1 input.sk-toggleable__control:checked~div.sk-toggleable__content {max-height: 200px;max-width: 100%;overflow: auto;}#sk-container-id-1 input.sk-toggleable__control:checked~label.sk-toggleable__label-arrow:before {content: \"▾\";}#sk-container-id-1 div.sk-estimator input.sk-toggleable__control:checked~label.sk-toggleable__label {background-color: #d4ebff;}#sk-container-id-1 div.sk-label input.sk-toggleable__control:checked~label.sk-toggleable__label {background-color: #d4ebff;}#sk-container-id-1 input.sk-hidden--visually {border: 0;clip: rect(1px 1px 1px 1px);clip: rect(1px, 1px, 1px, 1px);height: 1px;margin: -1px;overflow: hidden;padding: 0;position: absolute;width: 1px;}#sk-container-id-1 div.sk-estimator {font-family: monospace;background-color: #f0f8ff;border: 1px dotted black;border-radius: 0.25em;box-sizing: border-box;margin-bottom: 0.5em;}#sk-container-id-1 div.sk-estimator:hover {background-color: #d4ebff;}#sk-container-id-1 div.sk-parallel-item::after {content: \"\";width: 100%;border-bottom: 1px solid gray;flex-grow: 1;}#sk-container-id-1 div.sk-label:hover label.sk-toggleable__label {background-color: #d4ebff;}#sk-container-id-1 div.sk-serial::before {content: \"\";position: absolute;border-left: 1px solid gray;box-sizing: border-box;top: 0;bottom: 0;left: 50%;z-index: 0;}#sk-container-id-1 div.sk-serial {display: flex;flex-direction: column;align-items: center;background-color: white;padding-right: 0.2em;padding-left: 0.2em;position: relative;}#sk-container-id-1 div.sk-item {position: relative;z-index: 1;}#sk-container-id-1 div.sk-parallel {display: flex;align-items: stretch;justify-content: center;background-color: white;position: relative;}#sk-container-id-1 div.sk-item::before, #sk-container-id-1 div.sk-parallel-item::before {content: \"\";position: absolute;border-left: 1px solid gray;box-sizing: border-box;top: 0;bottom: 0;left: 50%;z-index: -1;}#sk-container-id-1 div.sk-parallel-item {display: flex;flex-direction: column;z-index: 1;position: relative;background-color: white;}#sk-container-id-1 div.sk-parallel-item:first-child::after {align-self: flex-end;width: 50%;}#sk-container-id-1 div.sk-parallel-item:last-child::after {align-self: flex-start;width: 50%;}#sk-container-id-1 div.sk-parallel-item:only-child::after {width: 0;}#sk-container-id-1 div.sk-dashed-wrapped {border: 1px dashed gray;margin: 0 0.4em 0.5em 0.4em;box-sizing: border-box;padding-bottom: 0.4em;background-color: white;}#sk-container-id-1 div.sk-label label {font-family: monospace;font-weight: bold;display: inline-block;line-height: 1.2em;}#sk-container-id-1 div.sk-label-container {text-align: center;}#sk-container-id-1 div.sk-container {/* jupyter's `normalize.less` sets `[hidden] { display: none; }` but bootstrap.min.css set `[hidden] { display: none !important; }` so we also need the `!important` here to be able to override the default hidden behavior on the sphinx rendered scikit-learn.org. See: https://github.com/scikit-learn/scikit-learn/issues/21755 */display: inline-block !important;position: relative;}#sk-container-id-1 div.sk-text-repr-fallback {display: none;}</style><div id=\"sk-container-id-1\" class=\"sk-top-container\"><div class=\"sk-text-repr-fallback\"><pre>XGBRegressor(base_score=None, booster=None, callbacks=None,\n",
       "             colsample_bylevel=None, colsample_bynode=None,\n",
       "             colsample_bytree=None, device=None, early_stopping_rounds=None,\n",
       "             enable_categorical=False, eval_metric=None, feature_types=None,\n",
       "             gamma=None, grow_policy=None, importance_type=None,\n",
       "             interaction_constraints=None, learning_rate=None, max_bin=None,\n",
       "             max_cat_threshold=None, max_cat_to_onehot=None,\n",
       "             max_delta_step=None, max_depth=None, max_leaves=None,\n",
       "             min_child_weight=None, missing=nan, monotone_constraints=None,\n",
       "             multi_strategy=None, n_estimators=None, n_jobs=None,\n",
       "             num_parallel_tree=None, random_state=None, ...)</pre><b>In a Jupyter environment, please rerun this cell to show the HTML representation or trust the notebook. <br />On GitHub, the HTML representation is unable to render, please try loading this page with nbviewer.org.</b></div><div class=\"sk-container\" hidden><div class=\"sk-item\"><div class=\"sk-estimator sk-toggleable\"><input class=\"sk-toggleable__control sk-hidden--visually\" id=\"sk-estimator-id-1\" type=\"checkbox\" checked><label for=\"sk-estimator-id-1\" class=\"sk-toggleable__label sk-toggleable__label-arrow\">XGBRegressor</label><div class=\"sk-toggleable__content\"><pre>XGBRegressor(base_score=None, booster=None, callbacks=None,\n",
       "             colsample_bylevel=None, colsample_bynode=None,\n",
       "             colsample_bytree=None, device=None, early_stopping_rounds=None,\n",
       "             enable_categorical=False, eval_metric=None, feature_types=None,\n",
       "             gamma=None, grow_policy=None, importance_type=None,\n",
       "             interaction_constraints=None, learning_rate=None, max_bin=None,\n",
       "             max_cat_threshold=None, max_cat_to_onehot=None,\n",
       "             max_delta_step=None, max_depth=None, max_leaves=None,\n",
       "             min_child_weight=None, missing=nan, monotone_constraints=None,\n",
       "             multi_strategy=None, n_estimators=None, n_jobs=None,\n",
       "             num_parallel_tree=None, random_state=None, ...)</pre></div></div></div></div></div>"
      ],
      "text/plain": [
       "XGBRegressor(base_score=None, booster=None, callbacks=None,\n",
       "             colsample_bylevel=None, colsample_bynode=None,\n",
       "             colsample_bytree=None, device=None, early_stopping_rounds=None,\n",
       "             enable_categorical=False, eval_metric=None, feature_types=None,\n",
       "             gamma=None, grow_policy=None, importance_type=None,\n",
       "             interaction_constraints=None, learning_rate=None, max_bin=None,\n",
       "             max_cat_threshold=None, max_cat_to_onehot=None,\n",
       "             max_delta_step=None, max_depth=None, max_leaves=None,\n",
       "             min_child_weight=None, missing=nan, monotone_constraints=None,\n",
       "             multi_strategy=None, n_estimators=None, n_jobs=None,\n",
       "             num_parallel_tree=None, random_state=None, ...)"
      ]
     },
     "execution_count": 17,
     "metadata": {},
     "output_type": "execute_result"
    }
   ],
   "source": [
    "# Train the model\n",
    "xgb_model.fit(X_train, y_train)\n"
   ]
  },
  {
   "cell_type": "code",
   "execution_count": 18,
   "id": "22b3457a",
   "metadata": {},
   "outputs": [],
   "source": [
    "# Make predictions on the testing set\n",
    "y_pred = xgb_model.predict(X_test)\n"
   ]
  },
  {
   "cell_type": "code",
   "execution_count": 19,
   "id": "c598ae7c",
   "metadata": {},
   "outputs": [
    {
     "name": "stdout",
     "output_type": "stream",
     "text": [
      "[184.9958  169.05539 189.41606 185.57422 187.80345 169.34846 181.80217\n",
      " 181.81108 189.21617 171.11241 169.02812 182.60538 182.61346 168.85255\n",
      " 184.41685]\n"
     ]
    }
   ],
   "source": [
    "print(y_pred)"
   ]
  },
  {
   "cell_type": "code",
   "execution_count": 20,
   "id": "45dbc8d9",
   "metadata": {},
   "outputs": [
    {
     "name": "stdout",
     "output_type": "stream",
     "text": [
      "            Actual capacity  Predicted soc\n",
      "Date                                      \n",
      "2024-01-08       185.559998     184.995804\n",
      "2024-04-03       169.649994     169.055389\n",
      "2024-01-29       191.729996     189.416061\n",
      "2024-01-02       185.639999     185.574219\n",
      "2024-02-12       187.149994     187.803452\n",
      "2024-04-16       169.380005     169.348465\n",
      "2024-01-17       182.679993     181.802170\n",
      "2024-02-21       182.320007     181.811081\n",
      "2024-01-19       191.559998     189.216171\n",
      "2024-03-21       171.369995     171.112411\n",
      "2024-04-05       169.580002     169.028122\n",
      "2024-02-15       183.860001     182.605377\n",
      "2024-01-16       183.630005     182.613464\n",
      "2024-03-07       169.000000     168.852554\n",
      "2024-01-09       185.139999     184.416855\n"
     ]
    }
   ],
   "source": [
    "predictions_df = pd.DataFrame({\n",
    "    'Actual capacity': (y_test),\n",
    "\n",
    "    'Predicted soc': abs(y_pred)\n",
    "})\n",
    "\n",
    "# Display the DataFrame\n",
    "print(predictions_df)"
   ]
  },
  {
   "cell_type": "code",
   "execution_count": 21,
   "id": "119cbc30",
   "metadata": {},
   "outputs": [
    {
     "name": "stdout",
     "output_type": "stream",
     "text": [
      "Mean Squared Error: 1.100308277675261\n"
     ]
    }
   ],
   "source": [
    "# Evaluate the model\n",
    "mse = mean_squared_error(y_test, y_pred)\n",
    "print(f\"Mean Squared Error: {mse}\")\n"
   ]
  },
  {
   "cell_type": "code",
   "execution_count": 22,
   "id": "88c4f6e7",
   "metadata": {},
   "outputs": [
    {
     "name": "stdout",
     "output_type": "stream",
     "text": [
      "Root Mean Squared Error (RMSE): 1.0489558034899569\n"
     ]
    }
   ],
   "source": [
    "rmse = np.sqrt(mse)\n",
    "\n",
    "print(\"Root Mean Squared Error (RMSE):\", rmse)"
   ]
  },
  {
   "cell_type": "code",
   "execution_count": null,
   "id": "bd2c858d",
   "metadata": {},
   "outputs": [],
   "source": []
  }
 ],
 "metadata": {
  "kernelspec": {
   "display_name": "Python 3 (ipykernel)",
   "language": "python",
   "name": "python3"
  },
  "language_info": {
   "codemirror_mode": {
    "name": "ipython",
    "version": 3
   },
   "file_extension": ".py",
   "mimetype": "text/x-python",
   "name": "python",
   "nbconvert_exporter": "python",
   "pygments_lexer": "ipython3",
   "version": "3.10.13"
  }
 },
 "nbformat": 4,
 "nbformat_minor": 5
}
